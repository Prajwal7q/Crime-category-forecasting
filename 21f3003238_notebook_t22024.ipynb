{
  "metadata": {
    "kernelspec": {
      "language": "python",
      "display_name": "Python 3",
      "name": "python3"
    },
    "language_info": {
      "name": "python",
      "version": "3.10.13",
      "mimetype": "text/x-python",
      "codemirror_mode": {
        "name": "ipython",
        "version": 3
      },
      "pygments_lexer": "ipython3",
      "nbconvert_exporter": "python",
      "file_extension": ".py"
    },
    "kaggle": {
      "accelerator": "none",
      "dataSources": [
        {
          "sourceId": 77420,
          "databundleVersionId": 8446444,
          "sourceType": "competition"
        }
      ],
      "dockerImageVersionId": 30746,
      "isInternetEnabled": true,
      "language": "python",
      "sourceType": "notebook",
      "isGpuEnabled": false
    },
    "colab": {
      "name": "21f3003238-notebook-t22024",
      "provenance": []
    }
  },
  "nbformat_minor": 0,
  "nbformat": 4,
  "cells": [
    {
      "source": [
        "\n",
        "# IMPORTANT: RUN THIS CELL IN ORDER TO IMPORT YOUR KAGGLE DATA SOURCES\n",
        "# TO THE CORRECT LOCATION (/kaggle/input) IN YOUR NOTEBOOK,\n",
        "# THEN FEEL FREE TO DELETE THIS CELL.\n",
        "# NOTE: THIS NOTEBOOK ENVIRONMENT DIFFERS FROM KAGGLE'S PYTHON\n",
        "# ENVIRONMENT SO THERE MAY BE MISSING LIBRARIES USED BY YOUR\n",
        "# NOTEBOOK.\n",
        "\n",
        "import os\n",
        "import sys\n",
        "from tempfile import NamedTemporaryFile\n",
        "from urllib.request import urlopen\n",
        "from urllib.parse import unquote, urlparse\n",
        "from urllib.error import HTTPError\n",
        "from zipfile import ZipFile\n",
        "import tarfile\n",
        "import shutil\n",
        "\n",
        "CHUNK_SIZE = 40960\n",
        "DATA_SOURCE_MAPPING = 'crime-cast-forecasting-crime-categories:https%3A%2F%2Fstorage.googleapis.com%2Fkaggle-competitions-data%2Fkaggle-v2%2F77420%2F8446444%2Fbundle%2Farchive.zip%3FX-Goog-Algorithm%3DGOOG4-RSA-SHA256%26X-Goog-Credential%3Dgcp-kaggle-com%2540kaggle-161607.iam.gserviceaccount.com%252F20240802%252Fauto%252Fstorage%252Fgoog4_request%26X-Goog-Date%3D20240802T061032Z%26X-Goog-Expires%3D259200%26X-Goog-SignedHeaders%3Dhost%26X-Goog-Signature%3D94c7196da7ada28203dad690006d34295698d2ba2f9f35758f6025a0bb37c2d73e1219641c780d04ab45348c924caa44aa729788f32a4a56b89d556f4fa8b2f64e26062c5978c711907bde966c3430a253752526dc3b5126f0b32ab9290716bb53979c272dea71c0d62e22317a05c937fad1994403935303b51bfa9a5037e45bce4758df1a62160388d84179791a1ebd95d531c708e34dbced0428722a3fdd63023745d66cca404e0c34828239ea49b2b0e5b491c794539e267245ec5f2ab855e5a8268b84ce8a3d518e362527a44bf4af9ad0cf196c1bde74bd72e1c092f85465de445d36161250532b933e5121f1aa76d5d4f5abe2e8a0f70e41eb45bfa5d2'\n",
        "\n",
        "KAGGLE_INPUT_PATH='/kaggle/input'\n",
        "KAGGLE_WORKING_PATH='/kaggle/working'\n",
        "KAGGLE_SYMLINK='kaggle'\n",
        "\n",
        "!umount /kaggle/input/ 2> /dev/null\n",
        "shutil.rmtree('/kaggle/input', ignore_errors=True)\n",
        "os.makedirs(KAGGLE_INPUT_PATH, 0o777, exist_ok=True)\n",
        "os.makedirs(KAGGLE_WORKING_PATH, 0o777, exist_ok=True)\n",
        "\n",
        "try:\n",
        "  os.symlink(KAGGLE_INPUT_PATH, os.path.join(\"..\", 'input'), target_is_directory=True)\n",
        "except FileExistsError:\n",
        "  pass\n",
        "try:\n",
        "  os.symlink(KAGGLE_WORKING_PATH, os.path.join(\"..\", 'working'), target_is_directory=True)\n",
        "except FileExistsError:\n",
        "  pass\n",
        "\n",
        "for data_source_mapping in DATA_SOURCE_MAPPING.split(','):\n",
        "    directory, download_url_encoded = data_source_mapping.split(':')\n",
        "    download_url = unquote(download_url_encoded)\n",
        "    filename = urlparse(download_url).path\n",
        "    destination_path = os.path.join(KAGGLE_INPUT_PATH, directory)\n",
        "    try:\n",
        "        with urlopen(download_url) as fileres, NamedTemporaryFile() as tfile:\n",
        "            total_length = fileres.headers['content-length']\n",
        "            print(f'Downloading {directory}, {total_length} bytes compressed')\n",
        "            dl = 0\n",
        "            data = fileres.read(CHUNK_SIZE)\n",
        "            while len(data) > 0:\n",
        "                dl += len(data)\n",
        "                tfile.write(data)\n",
        "                done = int(50 * dl / int(total_length))\n",
        "                sys.stdout.write(f\"\\r[{'=' * done}{' ' * (50-done)}] {dl} bytes downloaded\")\n",
        "                sys.stdout.flush()\n",
        "                data = fileres.read(CHUNK_SIZE)\n",
        "            if filename.endswith('.zip'):\n",
        "              with ZipFile(tfile) as zfile:\n",
        "                zfile.extractall(destination_path)\n",
        "            else:\n",
        "              with tarfile.open(tfile.name) as tarfile:\n",
        "                tarfile.extractall(destination_path)\n",
        "            print(f'\\nDownloaded and uncompressed: {directory}')\n",
        "    except HTTPError as e:\n",
        "        print(f'Failed to load (likely expired) {download_url} to path {destination_path}')\n",
        "        continue\n",
        "    except OSError as e:\n",
        "        print(f'Failed to load {download_url} to path {destination_path}')\n",
        "        continue\n",
        "\n",
        "print('Data source import complete.')\n"
      ],
      "metadata": {
        "id": "wNj32JdQti78"
      },
      "cell_type": "code",
      "outputs": [],
      "execution_count": null
    },
    {
      "cell_type": "code",
      "source": [
        "\n",
        "import numpy as np # linear algebra\n",
        "import pandas as pd\n",
        "import matplotlib.pyplot as plt\n",
        "import seaborn as sns\n",
        "\n",
        "\n",
        "import os\n",
        "for dirname, _, filenames in os.walk('/kaggle/input'):\n",
        "    for filename in filenames:\n",
        "        print(os.path.join(dirname, filename))\n",
        "\n",
        "# You can write up to 20GB to the current directory (/kaggle/working/) that gets preserved as output when you create a version using \"Save & Run All\"\n",
        "# You can also write temporary files to /kaggle/temp/, but they won't be saved outside of the current session"
      ],
      "metadata": {
        "_uuid": "8f2839f25d086af736a60e9eeb907d3b93b6e0e5",
        "_cell_guid": "b1076dfc-b9ad-4769-8c92-a6c4dae69d19",
        "execution": {
          "iopub.status.busy": "2024-08-02T06:03:10.87697Z",
          "iopub.execute_input": "2024-08-02T06:03:10.877396Z",
          "iopub.status.idle": "2024-08-02T06:03:10.88657Z",
          "shell.execute_reply.started": "2024-08-02T06:03:10.877361Z",
          "shell.execute_reply": "2024-08-02T06:03:10.885428Z"
        },
        "trusted": true,
        "id": "7fCEcy7zti7_"
      },
      "execution_count": null,
      "outputs": []
    },
    {
      "cell_type": "code",
      "source": [
        "from sklearn.model_selection import train_test_split\n",
        "\n",
        "from sklearn.preprocessing import StandardScaler,LabelEncoder, OneHotEncoder,OrdinalEncoder\n",
        "from sklearn.impute import SimpleImputer\n",
        "from sklearn.compose import ColumnTransformer\n",
        "from sklearn.pipeline import Pipeline\n",
        "from sklearn.metrics import accuracy_score\n",
        "from sklearn.neighbors import KNeighborsClassifier\n",
        "from sklearn.svm import SVC\n",
        "\n",
        "from sklearn.linear_model import LogisticRegression\n",
        "from sklearn.tree import DecisionTreeClassifier\n",
        "from sklearn.dummy import DummyClassifier"
      ],
      "metadata": {
        "execution": {
          "iopub.status.busy": "2024-08-02T06:03:10.891988Z",
          "iopub.execute_input": "2024-08-02T06:03:10.892357Z",
          "iopub.status.idle": "2024-08-02T06:03:10.900416Z",
          "shell.execute_reply.started": "2024-08-02T06:03:10.892325Z",
          "shell.execute_reply": "2024-08-02T06:03:10.899103Z"
        },
        "trusted": true,
        "id": "0KmBUUmcti7_"
      },
      "execution_count": null,
      "outputs": []
    },
    {
      "cell_type": "code",
      "source": [
        "train= pd.read_csv(\"/kaggle/input/crime-cast-forecasting-crime-categories/train.csv\")\n",
        "test=pd.read_csv(\"/kaggle/input/crime-cast-forecasting-crime-categories/test.csv\")\n",
        "sample=pd.read_csv('/kaggle/input/crime-cast-forecasting-crime-categories/sample.csv')"
      ],
      "metadata": {
        "execution": {
          "iopub.status.busy": "2024-08-02T06:03:10.903159Z",
          "iopub.execute_input": "2024-08-02T06:03:10.903704Z",
          "iopub.status.idle": "2024-08-02T06:03:11.072944Z",
          "shell.execute_reply.started": "2024-08-02T06:03:10.903663Z",
          "shell.execute_reply": "2024-08-02T06:03:11.071846Z"
        },
        "trusted": true,
        "id": "ZwM6OpFIti8A"
      },
      "execution_count": null,
      "outputs": []
    },
    {
      "cell_type": "code",
      "source": [
        "print(f\"Shape of test dataset: {test.shape}\")\n",
        "print(f\"Shape of sample_submission: {sample.shape}\")"
      ],
      "metadata": {
        "execution": {
          "iopub.status.busy": "2024-08-02T06:03:11.074294Z",
          "iopub.execute_input": "2024-08-02T06:03:11.07468Z",
          "iopub.status.idle": "2024-08-02T06:03:11.081364Z",
          "shell.execute_reply.started": "2024-08-02T06:03:11.074646Z",
          "shell.execute_reply": "2024-08-02T06:03:11.079872Z"
        },
        "trusted": true,
        "id": "8TEMgS0rti8A"
      },
      "execution_count": null,
      "outputs": []
    },
    {
      "cell_type": "code",
      "source": [
        "X=train.drop('Crime_Category',axis='columns')\n",
        "y=train['Crime_Category']"
      ],
      "metadata": {
        "execution": {
          "iopub.status.busy": "2024-08-02T06:03:11.084248Z",
          "iopub.execute_input": "2024-08-02T06:03:11.084702Z",
          "iopub.status.idle": "2024-08-02T06:03:11.100159Z",
          "shell.execute_reply.started": "2024-08-02T06:03:11.084662Z",
          "shell.execute_reply": "2024-08-02T06:03:11.099026Z"
        },
        "trusted": true,
        "id": "tTtJMlHsti8A"
      },
      "execution_count": null,
      "outputs": []
    },
    {
      "cell_type": "code",
      "source": [
        "missing_cols = set(X.columns) - set(test.columns)\n",
        "for col in missing_cols:\n",
        "    test[col] = np.nan\n"
      ],
      "metadata": {
        "execution": {
          "iopub.status.busy": "2024-08-02T06:03:11.101739Z",
          "iopub.execute_input": "2024-08-02T06:03:11.102124Z",
          "iopub.status.idle": "2024-08-02T06:03:11.112281Z",
          "shell.execute_reply.started": "2024-08-02T06:03:11.102089Z",
          "shell.execute_reply": "2024-08-02T06:03:11.110909Z"
        },
        "trusted": true,
        "id": "XGFD-pZIti8A"
      },
      "execution_count": null,
      "outputs": []
    },
    {
      "cell_type": "code",
      "source": [
        "test = test[X.columns]"
      ],
      "metadata": {
        "execution": {
          "iopub.status.busy": "2024-08-02T06:03:11.11377Z",
          "iopub.execute_input": "2024-08-02T06:03:11.114204Z",
          "iopub.status.idle": "2024-08-02T06:03:11.125321Z",
          "shell.execute_reply.started": "2024-08-02T06:03:11.114158Z",
          "shell.execute_reply": "2024-08-02T06:03:11.124143Z"
        },
        "trusted": true,
        "id": "eEkcPmz7ti8A"
      },
      "execution_count": null,
      "outputs": []
    },
    {
      "cell_type": "code",
      "source": [
        "X_train, X_val, y_train, y_val =train_test_split(X,y,test_size=0.33, random_state=42)"
      ],
      "metadata": {
        "execution": {
          "iopub.status.busy": "2024-08-02T06:03:11.126895Z",
          "iopub.execute_input": "2024-08-02T06:03:11.127346Z",
          "iopub.status.idle": "2024-08-02T06:03:11.152829Z",
          "shell.execute_reply.started": "2024-08-02T06:03:11.127289Z",
          "shell.execute_reply": "2024-08-02T06:03:11.151556Z"
        },
        "trusted": true,
        "id": "FILFxeFJti8B"
      },
      "execution_count": null,
      "outputs": []
    },
    {
      "cell_type": "code",
      "source": [
        "X_train.info()"
      ],
      "metadata": {
        "execution": {
          "iopub.status.busy": "2024-08-02T06:03:11.154655Z",
          "iopub.execute_input": "2024-08-02T06:03:11.15509Z",
          "iopub.status.idle": "2024-08-02T06:03:11.187575Z",
          "shell.execute_reply.started": "2024-08-02T06:03:11.155049Z",
          "shell.execute_reply": "2024-08-02T06:03:11.18653Z"
        },
        "trusted": true,
        "id": "q4_kYrLati8B"
      },
      "execution_count": null,
      "outputs": []
    },
    {
      "cell_type": "code",
      "source": [
        "train.isna().sum()"
      ],
      "metadata": {
        "execution": {
          "iopub.status.busy": "2024-08-02T06:03:11.191543Z",
          "iopub.execute_input": "2024-08-02T06:03:11.19189Z",
          "iopub.status.idle": "2024-08-02T06:03:11.230036Z",
          "shell.execute_reply.started": "2024-08-02T06:03:11.19186Z",
          "shell.execute_reply": "2024-08-02T06:03:11.228768Z"
        },
        "trusted": true,
        "id": "ySD449DBti8B"
      },
      "execution_count": null,
      "outputs": []
    },
    {
      "cell_type": "code",
      "source": [
        "# Plot the distribution of the target variable\n",
        "plt.figure(figsize=(10, 6))\n",
        "sns.countplot(x=y)\n",
        "plt.title('Distribution of Crime_Category in the Training Set')\n",
        "plt.xlabel('Crime_Category')\n",
        "plt.ylabel('Count')\n",
        "plt.show()"
      ],
      "metadata": {
        "execution": {
          "iopub.status.busy": "2024-08-02T06:03:11.231297Z",
          "iopub.execute_input": "2024-08-02T06:03:11.231688Z",
          "iopub.status.idle": "2024-08-02T06:03:11.522435Z",
          "shell.execute_reply.started": "2024-08-02T06:03:11.231654Z",
          "shell.execute_reply": "2024-08-02T06:03:11.521355Z"
        },
        "trusted": true,
        "id": "099hZt_Lti8B"
      },
      "execution_count": null,
      "outputs": []
    },
    {
      "cell_type": "code",
      "source": [
        "nan_cols=[\"Weapon_Used_Code\"]\n",
        "nan_cols"
      ],
      "metadata": {
        "execution": {
          "iopub.status.busy": "2024-08-02T06:03:11.524449Z",
          "iopub.execute_input": "2024-08-02T06:03:11.524913Z",
          "iopub.status.idle": "2024-08-02T06:03:11.533096Z",
          "shell.execute_reply.started": "2024-08-02T06:03:11.524873Z",
          "shell.execute_reply": "2024-08-02T06:03:11.53187Z"
        },
        "trusted": true,
        "id": "2Lj5vHsjti8C"
      },
      "execution_count": null,
      "outputs": []
    },
    {
      "cell_type": "code",
      "source": [
        "mean_imputer=SimpleImputer(strategy=\"mean\")"
      ],
      "metadata": {
        "execution": {
          "iopub.status.busy": "2024-08-02T06:03:11.53506Z",
          "iopub.execute_input": "2024-08-02T06:03:11.535539Z",
          "iopub.status.idle": "2024-08-02T06:03:11.541122Z",
          "shell.execute_reply.started": "2024-08-02T06:03:11.535498Z",
          "shell.execute_reply": "2024-08-02T06:03:11.539961Z"
        },
        "trusted": true,
        "id": "khmJlMkzti8C"
      },
      "execution_count": null,
      "outputs": []
    },
    {
      "cell_type": "code",
      "source": [
        "X_train[nan_cols]=mean_imputer.fit_transform(X_train[nan_cols])\n",
        "X_val[nan_cols]=mean_imputer.transform(X_val[nan_cols])\n",
        "test[nan_cols]=mean_imputer.transform(test[nan_cols])"
      ],
      "metadata": {
        "execution": {
          "iopub.status.busy": "2024-08-02T06:03:11.542901Z",
          "iopub.execute_input": "2024-08-02T06:03:11.543304Z",
          "iopub.status.idle": "2024-08-02T06:03:11.563101Z",
          "shell.execute_reply.started": "2024-08-02T06:03:11.543268Z",
          "shell.execute_reply": "2024-08-02T06:03:11.561891Z"
        },
        "trusted": true,
        "id": "Gtwq3ozyti8C"
      },
      "execution_count": null,
      "outputs": []
    },
    {
      "cell_type": "code",
      "source": [
        "X_train[nan_cols]"
      ],
      "metadata": {
        "execution": {
          "iopub.status.busy": "2024-08-02T06:03:11.565674Z",
          "iopub.execute_input": "2024-08-02T06:03:11.566107Z",
          "iopub.status.idle": "2024-08-02T06:03:11.581018Z",
          "shell.execute_reply.started": "2024-08-02T06:03:11.566066Z",
          "shell.execute_reply": "2024-08-02T06:03:11.579902Z"
        },
        "trusted": true,
        "id": "UoBBVHk7ti8C"
      },
      "execution_count": null,
      "outputs": []
    },
    {
      "cell_type": "code",
      "source": [
        "Categorical_cols=X_train.select_dtypes(include=['object']).columns\n",
        "Categorical_cols"
      ],
      "metadata": {
        "execution": {
          "iopub.status.busy": "2024-08-02T06:03:11.584562Z",
          "iopub.execute_input": "2024-08-02T06:03:11.584969Z",
          "iopub.status.idle": "2024-08-02T06:03:11.596156Z",
          "shell.execute_reply.started": "2024-08-02T06:03:11.584937Z",
          "shell.execute_reply": "2024-08-02T06:03:11.595055Z"
        },
        "trusted": true,
        "id": "NvBwarlOti8C"
      },
      "execution_count": null,
      "outputs": []
    },
    {
      "cell_type": "code",
      "source": [
        "threshold=5"
      ],
      "metadata": {
        "execution": {
          "iopub.status.busy": "2024-08-02T06:03:11.597703Z",
          "iopub.execute_input": "2024-08-02T06:03:11.59805Z",
          "iopub.status.idle": "2024-08-02T06:03:11.605968Z",
          "shell.execute_reply.started": "2024-08-02T06:03:11.598021Z",
          "shell.execute_reply": "2024-08-02T06:03:11.604826Z"
        },
        "trusted": true,
        "id": "NUfNYDkRti8C"
      },
      "execution_count": null,
      "outputs": []
    },
    {
      "cell_type": "code",
      "source": [
        "OneHotEncoder_cols=Categorical_cols[X_train[Categorical_cols].nunique()>threshold]\n",
        "OneHotEncoder_cols"
      ],
      "metadata": {
        "execution": {
          "iopub.status.busy": "2024-08-02T06:03:11.60784Z",
          "iopub.execute_input": "2024-08-02T06:03:11.608179Z",
          "iopub.status.idle": "2024-08-02T06:03:11.644635Z",
          "shell.execute_reply.started": "2024-08-02T06:03:11.608151Z",
          "shell.execute_reply": "2024-08-02T06:03:11.643389Z"
        },
        "trusted": true,
        "id": "r5zGT44gti8C"
      },
      "execution_count": null,
      "outputs": []
    },
    {
      "cell_type": "code",
      "source": [
        "OrdinalEncoder_cols=Categorical_cols[X_train[Categorical_cols].nunique()<=threshold]\n",
        "OrdinalEncoder_cols"
      ],
      "metadata": {
        "execution": {
          "iopub.status.busy": "2024-08-02T06:03:11.646069Z",
          "iopub.execute_input": "2024-08-02T06:03:11.646424Z",
          "iopub.status.idle": "2024-08-02T06:03:11.678176Z",
          "shell.execute_reply.started": "2024-08-02T06:03:11.646395Z",
          "shell.execute_reply": "2024-08-02T06:03:11.677037Z"
        },
        "trusted": true,
        "id": "yAx2h-gQti8D"
      },
      "execution_count": null,
      "outputs": []
    },
    {
      "cell_type": "code",
      "source": [
        "Ord_encoder=OrdinalEncoder()\n",
        "Ord_encoder.fit(X_train[OrdinalEncoder_cols])"
      ],
      "metadata": {
        "execution": {
          "iopub.status.busy": "2024-08-02T06:03:11.679676Z",
          "iopub.execute_input": "2024-08-02T06:03:11.680099Z",
          "iopub.status.idle": "2024-08-02T06:03:11.695231Z",
          "shell.execute_reply.started": "2024-08-02T06:03:11.680059Z",
          "shell.execute_reply": "2024-08-02T06:03:11.693725Z"
        },
        "trusted": true,
        "id": "YxI-W0E1ti8D"
      },
      "execution_count": null,
      "outputs": []
    },
    {
      "cell_type": "code",
      "source": [
        "Oe=OrdinalEncoder(handle_unknown='use_encoded_value',unknown_value=-1)"
      ],
      "metadata": {
        "execution": {
          "iopub.status.busy": "2024-08-02T06:03:11.696864Z",
          "iopub.execute_input": "2024-08-02T06:03:11.697275Z",
          "iopub.status.idle": "2024-08-02T06:03:11.704341Z",
          "shell.execute_reply.started": "2024-08-02T06:03:11.697238Z",
          "shell.execute_reply": "2024-08-02T06:03:11.703204Z"
        },
        "trusted": true,
        "id": "_O9r7BZpti8D"
      },
      "execution_count": null,
      "outputs": []
    },
    {
      "cell_type": "code",
      "source": [
        "X_train[OrdinalEncoder_cols]=Oe.fit_transform(X_train[OrdinalEncoder_cols])\n",
        "X_val[OrdinalEncoder_cols]=Oe.transform(X_val[OrdinalEncoder_cols])"
      ],
      "metadata": {
        "execution": {
          "iopub.status.busy": "2024-08-02T06:03:11.705661Z",
          "iopub.execute_input": "2024-08-02T06:03:11.706059Z",
          "iopub.status.idle": "2024-08-02T06:03:11.747017Z",
          "shell.execute_reply.started": "2024-08-02T06:03:11.706018Z",
          "shell.execute_reply": "2024-08-02T06:03:11.745655Z"
        },
        "trusted": true,
        "id": "tRil1kWcti8D"
      },
      "execution_count": null,
      "outputs": []
    },
    {
      "cell_type": "code",
      "source": [
        "test[OrdinalEncoder_cols]=Oe.transform(test[OrdinalEncoder_cols])"
      ],
      "metadata": {
        "execution": {
          "iopub.status.busy": "2024-08-02T06:03:11.748591Z",
          "iopub.execute_input": "2024-08-02T06:03:11.749013Z",
          "iopub.status.idle": "2024-08-02T06:03:11.762906Z",
          "shell.execute_reply.started": "2024-08-02T06:03:11.748976Z",
          "shell.execute_reply": "2024-08-02T06:03:11.761732Z"
        },
        "trusted": true,
        "id": "pqb0qjOdti8D"
      },
      "execution_count": null,
      "outputs": []
    },
    {
      "cell_type": "code",
      "source": [
        "X_train.head()"
      ],
      "metadata": {
        "execution": {
          "iopub.status.busy": "2024-08-02T06:03:11.764391Z",
          "iopub.execute_input": "2024-08-02T06:03:11.764896Z",
          "iopub.status.idle": "2024-08-02T06:03:11.802493Z",
          "shell.execute_reply.started": "2024-08-02T06:03:11.764851Z",
          "shell.execute_reply": "2024-08-02T06:03:11.801394Z"
        },
        "trusted": true,
        "id": "snBwrVIXti8D"
      },
      "execution_count": null,
      "outputs": []
    },
    {
      "cell_type": "code",
      "source": [
        "from operator import index\n",
        "Oh=OneHotEncoder(sparse_output=False ,handle_unknown='ignore')\n",
        "X_train_encoded=pd.DataFrame(Oh.fit_transform(X_train[OneHotEncoder_cols]),index=X_train.index,columns=Oh.get_feature_names_out())\n",
        "X_val_encoded=pd.DataFrame(Oh.transform(X_val[OneHotEncoder_cols]),index=X_val.index,columns=Oh.get_feature_names_out())\n",
        "test_encoded=pd.DataFrame(Oh.transform(test[OneHotEncoder_cols]),index=test.index,columns=Oh.get_feature_names_out())\n",
        "X_train_encoded.head()"
      ],
      "metadata": {
        "execution": {
          "iopub.status.busy": "2024-08-02T06:03:11.810253Z",
          "iopub.execute_input": "2024-08-02T06:03:11.810645Z",
          "iopub.status.idle": "2024-08-02T06:03:13.110823Z",
          "shell.execute_reply.started": "2024-08-02T06:03:11.810614Z",
          "shell.execute_reply": "2024-08-02T06:03:13.109718Z"
        },
        "trusted": true,
        "id": "5--koxXIti8D"
      },
      "execution_count": null,
      "outputs": []
    },
    {
      "cell_type": "code",
      "source": [
        "X_train.join(X_train_encoded).drop(columns=OneHotEncoder_cols)"
      ],
      "metadata": {
        "execution": {
          "iopub.status.busy": "2024-08-02T06:03:13.112666Z",
          "iopub.execute_input": "2024-08-02T06:03:13.113433Z",
          "iopub.status.idle": "2024-08-02T06:03:19.587013Z",
          "shell.execute_reply.started": "2024-08-02T06:03:13.1134Z",
          "shell.execute_reply": "2024-08-02T06:03:19.585821Z"
        },
        "trusted": true,
        "id": "GZRJsZhRti8D"
      },
      "execution_count": null,
      "outputs": []
    },
    {
      "cell_type": "code",
      "source": [
        "X_train=X_train.join(X_train_encoded).drop(columns=OneHotEncoder_cols)\n",
        "X_val=X_val.join(X_val_encoded).drop(columns=OneHotEncoder_cols)\n",
        "test=test.join(test_encoded).drop(columns=OneHotEncoder_cols)"
      ],
      "metadata": {
        "execution": {
          "iopub.status.busy": "2024-08-02T06:03:19.588568Z",
          "iopub.execute_input": "2024-08-02T06:03:19.588892Z",
          "iopub.status.idle": "2024-08-02T06:03:29.568362Z",
          "shell.execute_reply.started": "2024-08-02T06:03:19.588865Z",
          "shell.execute_reply": "2024-08-02T06:03:29.567172Z"
        },
        "trusted": true,
        "id": "kqJrVbLmti8D"
      },
      "execution_count": null,
      "outputs": []
    },
    {
      "cell_type": "code",
      "source": [
        "X_train.info()"
      ],
      "metadata": {
        "execution": {
          "iopub.status.busy": "2024-08-02T06:03:29.569753Z",
          "iopub.execute_input": "2024-08-02T06:03:29.57009Z",
          "iopub.status.idle": "2024-08-02T06:03:30.71793Z",
          "shell.execute_reply.started": "2024-08-02T06:03:29.570061Z",
          "shell.execute_reply": "2024-08-02T06:03:30.71682Z"
        },
        "trusted": true,
        "id": "UFBB6lscti8D"
      },
      "execution_count": null,
      "outputs": []
    },
    {
      "cell_type": "code",
      "source": [
        "X_train=X_train.replace(-1,np.nan)\n",
        "X_val=X_val.replace(-1,np.nan)\n",
        "test=test.replace(-1,np.nan)"
      ],
      "metadata": {
        "execution": {
          "iopub.status.busy": "2024-08-02T06:03:30.719279Z",
          "iopub.execute_input": "2024-08-02T06:03:30.719723Z",
          "iopub.status.idle": "2024-08-02T06:03:33.485181Z",
          "shell.execute_reply.started": "2024-08-02T06:03:30.719684Z",
          "shell.execute_reply": "2024-08-02T06:03:33.483908Z"
        },
        "trusted": true,
        "id": "fbeAIwQeti8D"
      },
      "execution_count": null,
      "outputs": []
    },
    {
      "cell_type": "code",
      "source": [
        "nan_count=X_train.isnull().sum()\n",
        "nan_count"
      ],
      "metadata": {
        "execution": {
          "iopub.status.busy": "2024-08-02T06:03:33.487054Z",
          "iopub.execute_input": "2024-08-02T06:03:33.487593Z",
          "iopub.status.idle": "2024-08-02T06:03:33.923805Z",
          "shell.execute_reply.started": "2024-08-02T06:03:33.487551Z",
          "shell.execute_reply": "2024-08-02T06:03:33.922739Z"
        },
        "trusted": true,
        "id": "oPpQjXa-ti8D"
      },
      "execution_count": null,
      "outputs": []
    },
    {
      "cell_type": "code",
      "source": [
        "nan_cols=nan_count[nan_count > 0].index\n",
        "nan_cols"
      ],
      "metadata": {
        "execution": {
          "iopub.status.busy": "2024-08-02T06:03:33.925171Z",
          "iopub.execute_input": "2024-08-02T06:03:33.925596Z",
          "iopub.status.idle": "2024-08-02T06:03:33.933117Z",
          "shell.execute_reply.started": "2024-08-02T06:03:33.925564Z",
          "shell.execute_reply": "2024-08-02T06:03:33.932015Z"
        },
        "trusted": true,
        "id": "RPEBKhq_ti8E"
      },
      "execution_count": null,
      "outputs": []
    },
    {
      "cell_type": "code",
      "source": [
        "Mode_imputer=SimpleImputer(strategy=\"most_frequent\")"
      ],
      "metadata": {
        "execution": {
          "iopub.status.busy": "2024-08-02T06:03:33.934528Z",
          "iopub.execute_input": "2024-08-02T06:03:33.934893Z",
          "iopub.status.idle": "2024-08-02T06:03:33.943793Z",
          "shell.execute_reply.started": "2024-08-02T06:03:33.934865Z",
          "shell.execute_reply": "2024-08-02T06:03:33.942546Z"
        },
        "trusted": true,
        "id": "8oJjtN3zti8E"
      },
      "execution_count": null,
      "outputs": []
    },
    {
      "cell_type": "code",
      "source": [
        "X_train.isnull().sum().sum()"
      ],
      "metadata": {
        "execution": {
          "iopub.status.busy": "2024-08-02T06:03:33.945319Z",
          "iopub.execute_input": "2024-08-02T06:03:33.946297Z",
          "iopub.status.idle": "2024-08-02T06:03:34.387627Z",
          "shell.execute_reply.started": "2024-08-02T06:03:33.946245Z",
          "shell.execute_reply": "2024-08-02T06:03:34.386249Z"
        },
        "trusted": true,
        "id": "DGMHOeTHti8E"
      },
      "execution_count": null,
      "outputs": []
    },
    {
      "cell_type": "code",
      "source": [
        "num_cols = X.select_dtypes(include=['number']).columns.tolist()\n",
        "cat_cols = X.select_dtypes(include=['object']).columns.tolist()\n",
        "cat_cols"
      ],
      "metadata": {
        "execution": {
          "iopub.status.busy": "2024-08-02T06:03:34.388875Z",
          "iopub.execute_input": "2024-08-02T06:03:34.389206Z",
          "iopub.status.idle": "2024-08-02T06:03:34.401723Z",
          "shell.execute_reply.started": "2024-08-02T06:03:34.389177Z",
          "shell.execute_reply": "2024-08-02T06:03:34.400093Z"
        },
        "trusted": true,
        "id": "rRtflStiti8E"
      },
      "execution_count": null,
      "outputs": []
    },
    {
      "cell_type": "code",
      "source": [
        "numerical_transformer = Pipeline(steps=[\n",
        "    ('imputer', SimpleImputer(strategy='mean')),\n",
        "    ('scaler', StandardScaler())\n",
        "])"
      ],
      "metadata": {
        "execution": {
          "iopub.status.busy": "2024-08-02T06:03:34.403443Z",
          "iopub.execute_input": "2024-08-02T06:03:34.403994Z",
          "iopub.status.idle": "2024-08-02T06:03:34.410479Z",
          "shell.execute_reply.started": "2024-08-02T06:03:34.403959Z",
          "shell.execute_reply": "2024-08-02T06:03:34.409244Z"
        },
        "trusted": true,
        "id": "NmUonfwqti8E"
      },
      "execution_count": null,
      "outputs": []
    },
    {
      "cell_type": "code",
      "source": [
        "categorical_transformer = Pipeline(steps=[\n",
        "    ('imputer', SimpleImputer(strategy='constant', fill_value='missing')),\n",
        "    ('onehot', OneHotEncoder(handle_unknown='ignore'))\n",
        "])"
      ],
      "metadata": {
        "execution": {
          "iopub.status.busy": "2024-08-02T06:03:34.414357Z",
          "iopub.execute_input": "2024-08-02T06:03:34.414781Z",
          "iopub.status.idle": "2024-08-02T06:03:34.421612Z",
          "shell.execute_reply.started": "2024-08-02T06:03:34.414749Z",
          "shell.execute_reply": "2024-08-02T06:03:34.420293Z"
        },
        "trusted": true,
        "id": "awH67kviti8E"
      },
      "execution_count": null,
      "outputs": []
    },
    {
      "cell_type": "code",
      "source": [
        "preprocessor = ColumnTransformer(\n",
        "    transformers=[\n",
        "        ('num', numerical_transformer, num_cols),\n",
        "        ('cat', categorical_transformer, cat_cols)\n",
        "    ])"
      ],
      "metadata": {
        "execution": {
          "iopub.status.busy": "2024-08-02T06:03:34.423242Z",
          "iopub.execute_input": "2024-08-02T06:03:34.423722Z",
          "iopub.status.idle": "2024-08-02T06:03:34.433963Z",
          "shell.execute_reply.started": "2024-08-02T06:03:34.423684Z",
          "shell.execute_reply": "2024-08-02T06:03:34.432946Z"
        },
        "trusted": true,
        "id": "OxMGrW1gti8E"
      },
      "execution_count": null,
      "outputs": []
    },
    {
      "cell_type": "code",
      "source": [
        "knn_model = Pipeline(steps=[\n",
        "    ('preprocessor', preprocessor),\n",
        "    ('classifier', KNeighborsClassifier(n_neighbors=5))\n",
        "])"
      ],
      "metadata": {
        "execution": {
          "iopub.status.busy": "2024-08-02T06:03:34.435291Z",
          "iopub.execute_input": "2024-08-02T06:03:34.435673Z",
          "iopub.status.idle": "2024-08-02T06:03:34.446072Z",
          "shell.execute_reply.started": "2024-08-02T06:03:34.435644Z",
          "shell.execute_reply": "2024-08-02T06:03:34.444911Z"
        },
        "trusted": true,
        "id": "VRWZcr6eti8F"
      },
      "execution_count": null,
      "outputs": []
    },
    {
      "cell_type": "code",
      "source": [
        "X_train, X_val, y_train, y_val = train_test_split(X, y, test_size=0.2, random_state=42)"
      ],
      "metadata": {
        "execution": {
          "iopub.status.busy": "2024-08-02T06:03:34.447304Z",
          "iopub.execute_input": "2024-08-02T06:03:34.447641Z",
          "iopub.status.idle": "2024-08-02T06:03:34.477532Z",
          "shell.execute_reply.started": "2024-08-02T06:03:34.447614Z",
          "shell.execute_reply": "2024-08-02T06:03:34.476266Z"
        },
        "trusted": true,
        "id": "1_GJDliZti8J"
      },
      "execution_count": null,
      "outputs": []
    },
    {
      "cell_type": "code",
      "source": [
        "knn_model.fit(X_train, y_train)"
      ],
      "metadata": {
        "execution": {
          "iopub.status.busy": "2024-08-02T06:03:34.478817Z",
          "iopub.execute_input": "2024-08-02T06:03:34.47914Z",
          "iopub.status.idle": "2024-08-02T06:03:34.813663Z",
          "shell.execute_reply.started": "2024-08-02T06:03:34.479112Z",
          "shell.execute_reply": "2024-08-02T06:03:34.812482Z"
        },
        "trusted": true,
        "id": "gOwANKdwti8J"
      },
      "execution_count": null,
      "outputs": []
    },
    {
      "cell_type": "code",
      "source": [
        "y_knn_pred = knn_model.predict(X_val)"
      ],
      "metadata": {
        "execution": {
          "iopub.status.busy": "2024-08-02T06:03:34.814942Z",
          "iopub.execute_input": "2024-08-02T06:03:34.815281Z",
          "iopub.status.idle": "2024-08-02T06:03:49.184516Z",
          "shell.execute_reply.started": "2024-08-02T06:03:34.815252Z",
          "shell.execute_reply": "2024-08-02T06:03:49.183283Z"
        },
        "trusted": true,
        "id": "7YQ59oAuti8J"
      },
      "execution_count": null,
      "outputs": []
    },
    {
      "cell_type": "code",
      "source": [
        "knn_accuracy = accuracy_score(y_val, y_knn_pred)\n",
        "knn_accuracy"
      ],
      "metadata": {
        "execution": {
          "iopub.status.busy": "2024-08-02T06:03:49.185946Z",
          "iopub.execute_input": "2024-08-02T06:03:49.186305Z",
          "iopub.status.idle": "2024-08-02T06:03:49.201076Z",
          "shell.execute_reply.started": "2024-08-02T06:03:49.186273Z",
          "shell.execute_reply": "2024-08-02T06:03:49.200042Z"
        },
        "trusted": true,
        "id": "VhifmIxrti8K"
      },
      "execution_count": null,
      "outputs": []
    },
    {
      "cell_type": "code",
      "source": [
        "print(f'Validation Accuracy of KNN : {knn_accuracy}')"
      ],
      "metadata": {
        "execution": {
          "iopub.status.busy": "2024-08-02T06:03:49.202961Z",
          "iopub.execute_input": "2024-08-02T06:03:49.203335Z",
          "iopub.status.idle": "2024-08-02T06:03:49.213868Z",
          "shell.execute_reply.started": "2024-08-02T06:03:49.203304Z",
          "shell.execute_reply": "2024-08-02T06:03:49.212783Z"
        },
        "trusted": true,
        "id": "4sYJrEvoti8K"
      },
      "execution_count": null,
      "outputs": []
    },
    {
      "cell_type": "code",
      "source": [
        "Dc_model=DummyClassifier(strategy='most_frequent')\n",
        "Dc_model.fit(X_train,y_train)"
      ],
      "metadata": {
        "execution": {
          "iopub.status.busy": "2024-08-02T06:03:49.215335Z",
          "iopub.execute_input": "2024-08-02T06:03:49.215717Z",
          "iopub.status.idle": "2024-08-02T06:03:49.244493Z",
          "shell.execute_reply.started": "2024-08-02T06:03:49.215688Z",
          "shell.execute_reply": "2024-08-02T06:03:49.243265Z"
        },
        "trusted": true,
        "id": "6FQ0ShYvti8K"
      },
      "execution_count": null,
      "outputs": []
    },
    {
      "cell_type": "code",
      "source": [
        "y_Dc_pred=Dc_model.predict(test)"
      ],
      "metadata": {
        "execution": {
          "iopub.status.busy": "2024-08-02T06:03:49.245918Z",
          "iopub.execute_input": "2024-08-02T06:03:49.246301Z",
          "iopub.status.idle": "2024-08-02T06:03:49.254817Z",
          "shell.execute_reply.started": "2024-08-02T06:03:49.246271Z",
          "shell.execute_reply": "2024-08-02T06:03:49.253566Z"
        },
        "trusted": true,
        "id": "CeC5B4YPti8K"
      },
      "execution_count": null,
      "outputs": []
    },
    {
      "cell_type": "code",
      "source": [
        "y_Dc_pred[ :20]"
      ],
      "metadata": {
        "execution": {
          "iopub.status.busy": "2024-08-02T06:03:49.256388Z",
          "iopub.execute_input": "2024-08-02T06:03:49.256849Z",
          "iopub.status.idle": "2024-08-02T06:03:49.270865Z",
          "shell.execute_reply.started": "2024-08-02T06:03:49.256804Z",
          "shell.execute_reply": "2024-08-02T06:03:49.269562Z"
        },
        "trusted": true,
        "id": "7IW85gZOti8L"
      },
      "execution_count": null,
      "outputs": []
    },
    {
      "cell_type": "code",
      "source": [
        "svm_model = Pipeline(steps=[\n",
        "    ('preprocessor', preprocessor),\n",
        "    ('classifier', SVC(kernel='linear', C=1.0))\n",
        "])"
      ],
      "metadata": {
        "execution": {
          "iopub.status.busy": "2024-08-02T06:03:49.272436Z",
          "iopub.execute_input": "2024-08-02T06:03:49.272831Z",
          "iopub.status.idle": "2024-08-02T06:03:49.283846Z",
          "shell.execute_reply.started": "2024-08-02T06:03:49.272802Z",
          "shell.execute_reply": "2024-08-02T06:03:49.282666Z"
        },
        "trusted": true,
        "id": "Bm_X9X8Tti8L"
      },
      "execution_count": null,
      "outputs": []
    },
    {
      "cell_type": "code",
      "source": [
        "X_train, X_val, y_train, y_val = train_test_split(X, y, test_size=0.2, random_state=42)"
      ],
      "metadata": {
        "execution": {
          "iopub.status.busy": "2024-08-02T06:03:49.285433Z",
          "iopub.execute_input": "2024-08-02T06:03:49.285839Z",
          "iopub.status.idle": "2024-08-02T06:03:49.312924Z",
          "shell.execute_reply.started": "2024-08-02T06:03:49.285804Z",
          "shell.execute_reply": "2024-08-02T06:03:49.311734Z"
        },
        "trusted": true,
        "id": "uV9TgCaGti8O"
      },
      "execution_count": null,
      "outputs": []
    },
    {
      "cell_type": "code",
      "source": [
        "svm_model.fit(X_train, y_train)"
      ],
      "metadata": {
        "execution": {
          "iopub.status.busy": "2024-08-02T06:03:49.314376Z",
          "iopub.execute_input": "2024-08-02T06:03:49.314773Z",
          "iopub.status.idle": "2024-08-02T06:04:04.776757Z",
          "shell.execute_reply.started": "2024-08-02T06:03:49.314743Z",
          "shell.execute_reply": "2024-08-02T06:04:04.775551Z"
        },
        "trusted": true,
        "id": "X4dWd6A_ti8P"
      },
      "execution_count": null,
      "outputs": []
    },
    {
      "cell_type": "code",
      "source": [
        " y_svm_pred = svm_model.predict(X_val)"
      ],
      "metadata": {
        "execution": {
          "iopub.status.busy": "2024-08-02T06:04:04.778124Z",
          "iopub.execute_input": "2024-08-02T06:04:04.778582Z",
          "iopub.status.idle": "2024-08-02T06:04:07.174618Z",
          "shell.execute_reply.started": "2024-08-02T06:04:04.778541Z",
          "shell.execute_reply": "2024-08-02T06:04:07.173366Z"
        },
        "trusted": true,
        "id": "BpkMU54Fti8P"
      },
      "execution_count": null,
      "outputs": []
    },
    {
      "cell_type": "code",
      "source": [
        "svm_accuracy = accuracy_score(y_val, y_svm_pred)\n",
        "print(f'Validation Accuracy: {svm_accuracy}')"
      ],
      "metadata": {
        "execution": {
          "iopub.status.busy": "2024-08-02T06:04:07.176053Z",
          "iopub.execute_input": "2024-08-02T06:04:07.176411Z",
          "iopub.status.idle": "2024-08-02T06:04:07.190302Z",
          "shell.execute_reply.started": "2024-08-02T06:04:07.176379Z",
          "shell.execute_reply": "2024-08-02T06:04:07.18906Z"
        },
        "trusted": true,
        "id": "sFnhUBvrti8P"
      },
      "execution_count": null,
      "outputs": []
    },
    {
      "cell_type": "code",
      "source": [
        "best_model = knn_model if knn_accuracy > svm_accuracy else svm_model"
      ],
      "metadata": {
        "execution": {
          "iopub.status.busy": "2024-08-02T06:04:07.191778Z",
          "iopub.execute_input": "2024-08-02T06:04:07.192143Z",
          "iopub.status.idle": "2024-08-02T06:04:07.207073Z",
          "shell.execute_reply.started": "2024-08-02T06:04:07.192096Z",
          "shell.execute_reply": "2024-08-02T06:04:07.205833Z"
        },
        "trusted": true,
        "id": "PIN8cVbkti8P"
      },
      "execution_count": null,
      "outputs": []
    },
    {
      "cell_type": "code",
      "source": [
        "best_model"
      ],
      "metadata": {
        "execution": {
          "iopub.status.busy": "2024-08-02T06:04:07.208648Z",
          "iopub.execute_input": "2024-08-02T06:04:07.209025Z",
          "iopub.status.idle": "2024-08-02T06:04:07.307757Z",
          "shell.execute_reply.started": "2024-08-02T06:04:07.208995Z",
          "shell.execute_reply": "2024-08-02T06:04:07.306665Z"
        },
        "trusted": true,
        "id": "F-1HiJToti8P"
      },
      "execution_count": null,
      "outputs": []
    },
    {
      "cell_type": "code",
      "source": [
        "X_test=pd.read_csv(\"/kaggle/input/crime-cast-forecasting-crime-categories/test.csv\")"
      ],
      "metadata": {
        "execution": {
          "iopub.status.busy": "2024-08-02T06:04:07.309379Z",
          "iopub.execute_input": "2024-08-02T06:04:07.310011Z",
          "iopub.status.idle": "2024-08-02T06:04:07.345814Z",
          "shell.execute_reply.started": "2024-08-02T06:04:07.309967Z",
          "shell.execute_reply": "2024-08-02T06:04:07.34464Z"
        },
        "trusted": true,
        "id": "WL8iVooNti8P"
      },
      "execution_count": null,
      "outputs": []
    },
    {
      "cell_type": "code",
      "source": [
        "test_predictions = best_model.predict(X_test)"
      ],
      "metadata": {
        "execution": {
          "iopub.status.busy": "2024-08-02T06:04:07.347397Z",
          "iopub.execute_input": "2024-08-02T06:04:07.348075Z",
          "iopub.status.idle": "2024-08-02T06:04:10.344274Z",
          "shell.execute_reply.started": "2024-08-02T06:04:07.34803Z",
          "shell.execute_reply": "2024-08-02T06:04:10.343205Z"
        },
        "trusted": true,
        "id": "FoPbLTTXti8P"
      },
      "execution_count": null,
      "outputs": []
    },
    {
      "cell_type": "code",
      "source": [
        "test_predictions"
      ],
      "metadata": {
        "execution": {
          "iopub.status.busy": "2024-08-02T06:04:10.345565Z",
          "iopub.execute_input": "2024-08-02T06:04:10.345886Z",
          "iopub.status.idle": "2024-08-02T06:04:10.352877Z",
          "shell.execute_reply.started": "2024-08-02T06:04:10.345858Z",
          "shell.execute_reply": "2024-08-02T06:04:10.351806Z"
        },
        "trusted": true,
        "id": "tHdQkEjmti8Q"
      },
      "execution_count": null,
      "outputs": []
    },
    {
      "cell_type": "code",
      "source": [
        "test_predictions.shape"
      ],
      "metadata": {
        "execution": {
          "iopub.status.busy": "2024-08-02T06:04:10.354454Z",
          "iopub.execute_input": "2024-08-02T06:04:10.35482Z",
          "iopub.status.idle": "2024-08-02T06:04:10.366814Z",
          "shell.execute_reply.started": "2024-08-02T06:04:10.354785Z",
          "shell.execute_reply": "2024-08-02T06:04:10.365716Z"
        },
        "trusted": true,
        "id": "6ADeyAWMti8Q"
      },
      "execution_count": null,
      "outputs": []
    },
    {
      "cell_type": "code",
      "source": [
        "submission = pd.DataFrame({\"ID\": np.arange(1,5001),\n",
        "                           \"Crime_Category\": test_predictions,\n",
        "                          }\n",
        "                         )\n",
        "\n",
        "submission.to_csv('submission.csv',index=False)"
      ],
      "metadata": {
        "execution": {
          "iopub.status.busy": "2024-08-02T06:04:10.368359Z",
          "iopub.execute_input": "2024-08-02T06:04:10.368737Z",
          "iopub.status.idle": "2024-08-02T06:04:10.391307Z",
          "shell.execute_reply.started": "2024-08-02T06:04:10.368706Z",
          "shell.execute_reply": "2024-08-02T06:04:10.390111Z"
        },
        "trusted": true,
        "id": "TL0xTUhcti8Q"
      },
      "execution_count": null,
      "outputs": []
    }
  ]
}